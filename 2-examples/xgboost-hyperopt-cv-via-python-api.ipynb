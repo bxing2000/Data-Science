{
 "cells": [
  {
   "cell_type": "markdown",
   "metadata": {
    "_cell_guid": "cebc11d2-f65e-43ae-b6b4-6de03ef1334b",
    "_uuid": "3911ca492b2de321ed33d08ee15140c39a9a6204"
   },
   "source": [
    "# Porto Seguro’s Safe Driver Prediction: XGBoost"
   ]
  },
  {
   "cell_type": "markdown",
   "metadata": {
    "_cell_guid": "a282d61d-cf01-4859-81dc-a5cdf06a0ed0",
    "_uuid": "945d6b053b5015ffa6a20b16510b8b370b70c2f7"
   },
   "source": [
    "## Initialize"
   ]
  },
  {
   "cell_type": "code",
   "execution_count": 1,
   "metadata": {
    "ExecuteTime": {
     "end_time": "2017-10-08T21:21:30.555663Z",
     "start_time": "2017-10-08T21:21:30.52204Z"
    },
    "_cell_guid": "3829bbea-665a-448c-8c84-94e14efce62c",
    "_uuid": "421fd0e618255958a5fbc6dfe47a768a6fc1d33e",
    "collapsed": true,
    "init_cell": true
   },
   "outputs": [],
   "source": [
    "import xgboost as xgb\n",
    "import pandas as pd\n",
    "import numpy as np\n",
    "from uuid import uuid4\n",
    "from sys import exit"
   ]
  },
  {
   "cell_type": "code",
   "execution_count": 2,
   "metadata": {
    "ExecuteTime": {
     "end_time": "2017-10-08T21:00:19.168746Z",
     "start_time": "2017-10-08T21:00:19.006816Z"
    },
    "_cell_guid": "9c31e3d7-b329-419c-9bac-ec24d6bdbf3a",
    "_uuid": "8a2bbf9577ae994daf0df9ddf83aa249b3edcc44",
    "collapsed": true
   },
   "outputs": [],
   "source": [
    "from hyperopt.pyll.base import scope\n",
    "from hyperopt.pyll.stochastic import sample\n",
    "from hyperopt import STATUS_OK, Trials, fmin, hp, tpe"
   ]
  },
  {
   "cell_type": "code",
   "execution_count": 3,
   "metadata": {
    "ExecuteTime": {
     "end_time": "2017-10-08T21:21:30.580232Z",
     "start_time": "2017-10-08T21:21:30.558172Z"
    },
    "_cell_guid": "01fa9d7d-9ec5-45ab-9217-60a962a2968a",
    "_uuid": "14f090bb859f50567bce40e7634c155acb016dd3",
    "collapsed": true,
    "init_cell": true
   },
   "outputs": [],
   "source": [
    "from sklearn.model_selection import train_test_split\n",
    "from sklearn.metrics import roc_auc_score, roc_curve, auc\n",
    "from sklearn.model_selection import GridSearchCV"
   ]
  },
  {
   "cell_type": "code",
   "execution_count": 4,
   "metadata": {
    "ExecuteTime": {
     "end_time": "2017-10-08T21:21:30.609309Z",
     "start_time": "2017-10-08T21:21:30.582237Z"
    },
    "_cell_guid": "0d6bd696-89dd-446b-a1e8-1faa51d20bfd",
    "_uuid": "317f3f56c54207df6c72a74f7d3f66b18d42965c",
    "collapsed": true,
    "init_cell": true
   },
   "outputs": [],
   "source": [
    "# Setting working directory\n",
    "\n",
    "path = '../input/'"
   ]
  },
  {
   "cell_type": "code",
   "execution_count": 5,
   "metadata": {
    "ExecuteTime": {
     "end_time": "2017-10-08T21:21:44.351691Z",
     "start_time": "2017-10-08T21:21:30.611316Z"
    },
    "_cell_guid": "6a4b8dfa-963e-4822-8334-653450b14b90",
    "_uuid": "79ed24f5592224d620c0409b745017b5643994ad",
    "collapsed": true,
    "init_cell": true
   },
   "outputs": [],
   "source": [
    "#load files\n",
    "train = pd.read_csv(path + 'train.csv')\n",
    "test = pd.read_csv(path + 'test.csv')"
   ]
  },
  {
   "cell_type": "code",
   "execution_count": 6,
   "metadata": {
    "ExecuteTime": {
     "end_time": "2017-10-08T21:01:06.54772Z",
     "start_time": "2017-10-08T21:00:55.498845Z"
    },
    "_cell_guid": "e905c477-0c9c-485c-8aa9-8dcdef9689a0",
    "_uuid": "32ee55137ca4a9422f0d60d947fd1d8306baad2d",
    "collapsed": true
   },
   "outputs": [],
   "source": [
    "test_id = pd.read_csv(path + 'test.csv')['id']"
   ]
  },
  {
   "cell_type": "markdown",
   "metadata": {
    "_cell_guid": "f41975cc-3269-44cf-ba7a-35061825c99b",
    "_uuid": "391a82d3709f8e7cca7f094fde3f484e39671d19"
   },
   "source": [
    "## Split for modeling"
   ]
  },
  {
   "cell_type": "code",
   "execution_count": 7,
   "metadata": {
    "ExecuteTime": {
     "end_time": "2017-10-08T21:01:08.660337Z",
     "start_time": "2017-10-08T21:01:08.277319Z"
    },
    "_cell_guid": "4469e2eb-deed-4580-9427-c1de2e3c8b25",
    "_uuid": "a6b1f593d2c6744730a8d5128e9f2b714e848326",
    "collapsed": true
   },
   "outputs": [],
   "source": [
    "X = train.drop(\"target\", axis=1)\n",
    "y = train.target"
   ]
  },
  {
   "cell_type": "code",
   "execution_count": 8,
   "metadata": {
    "ExecuteTime": {
     "end_time": "2017-10-08T21:01:11.900452Z",
     "start_time": "2017-10-08T21:01:10.864197Z"
    },
    "_cell_guid": "04f7a699-1a7e-4095-a980-ea22516fe9f4",
    "_uuid": "f6f818451ebc865f88138d5acbb52105cd321804",
    "collapsed": true
   },
   "outputs": [],
   "source": [
    "X_train, X_val, y_train, y_val = train_test_split(X, y, random_state=42, test_size=0.3)"
   ]
  },
  {
   "cell_type": "code",
   "execution_count": 9,
   "metadata": {
    "ExecuteTime": {
     "end_time": "2017-10-08T21:01:14.938039Z",
     "start_time": "2017-10-08T21:01:14.786637Z"
    },
    "_cell_guid": "fac50724-73da-43d1-aad7-10c6c67093f2",
    "_uuid": "2d26ccc25e30aa49ba4e785ce9f17c67d46b6424",
    "collapsed": true
   },
   "outputs": [],
   "source": [
    "num_train, num_feature = X_train.shape"
   ]
  },
  {
   "cell_type": "code",
   "execution_count": 10,
   "metadata": {
    "ExecuteTime": {
     "end_time": "2017-10-08T21:01:19.433993Z",
     "start_time": "2017-10-08T21:01:17.741493Z"
    },
    "_cell_guid": "16449d48-b576-4de2-a8be-14c31cfddbb5",
    "_uuid": "db24b5be827833c840d98fdf5587329e082ab9fe",
    "collapsed": true
   },
   "outputs": [],
   "source": [
    "# create dataset for lightgbm\n",
    "# if you want to re-use data, remember to set free_raw_data=False\n",
    "xgb_train = xgb.DMatrix(X_train.values, y_train.values)\n",
    "xgb_eval  = xgb.DMatrix(X_val.values, y_val.values)"
   ]
  },
  {
   "cell_type": "code",
   "execution_count": 11,
   "metadata": {
    "ExecuteTime": {
     "end_time": "2017-10-08T21:01:24.344047Z",
     "start_time": "2017-10-08T21:01:22.237948Z"
    },
    "_cell_guid": "dcafa3c3-30dd-48b4-b589-633a1b26949d",
    "_uuid": "6bf56d1a177c567fea61b6628b3e5007c7249ea2",
    "collapsed": true
   },
   "outputs": [],
   "source": [
    "xgb_test   = xgb.DMatrix(test.values)"
   ]
  },
  {
   "cell_type": "code",
   "execution_count": 12,
   "metadata": {
    "ExecuteTime": {
     "end_time": "2017-10-08T21:11:08.012148Z",
     "start_time": "2017-10-08T21:11:07.831167Z"
    },
    "_cell_guid": "1575ff5f-9bc5-47e4-8ffa-0271eb6fbd0d",
    "_uuid": "d547b092ef30a66f4f1c232c7a692e6c39c3416e",
    "collapsed": true
   },
   "outputs": [],
   "source": [
    "import random\n",
    "import itertools\n",
    "N_HYPEROPT_PROBES = 100 #change to 5000\n",
    "EARLY_STOPPING = 50 #change to 80\n",
    "HOLDOUT_SEED = 123456\n",
    "HOLDOUT_SIZE = 0.10\n",
    "HYPEROPT_ALGO = tpe.suggest  #  tpe.suggest OR hyperopt.rand.suggest\n",
    "SEED0 = random.randint(1,1000000000)\n",
    "NB_CV_FOLDS = 3 #chagne to 5"
   ]
  },
  {
   "cell_type": "code",
   "execution_count": 13,
   "metadata": {
    "ExecuteTime": {
     "end_time": "2017-10-08T21:11:11.557072Z",
     "start_time": "2017-10-08T21:11:11.396646Z"
    },
    "_cell_guid": "1525f4d6-1f73-4c73-bb97-7e17e0b87a9c",
    "_uuid": "9fc6b5462ff6a0243206fda9b34b16b15d817684",
    "collapsed": true
   },
   "outputs": [],
   "source": [
    "obj_call_count = 0\n",
    "cur_best_score = 0"
   ]
  },
  {
   "cell_type": "code",
   "execution_count": 14,
   "metadata": {
    "ExecuteTime": {
     "end_time": "2017-10-08T21:14:48.199466Z",
     "start_time": "2017-10-08T21:14:47.838507Z"
    },
    "_cell_guid": "016f419b-3d08-47f9-a373-551555786aa8",
    "_uuid": "3d5de9f48b406f13881cfca44db68938482b05e6",
    "collapsed": true
   },
   "outputs": [],
   "source": [
    "def objective(space):\n",
    "    \n",
    "    global obj_call_count, cur_best_score, X_train, y_train, test, X_val, y_val\n",
    "\n",
    "    \n",
    "    obj_call_count += 1\n",
    "    print('\\nXGBoost objective call #{} cur_best_score={:7.5f}'.format(obj_call_count,cur_best_score) )\n",
    "\n",
    "    sorted_params = sorted(space.items(), key=lambda z: z[0])\n",
    "    print('Params:', str.join(' ', ['{}={}'.format(k, v) for k, v in sorted_params if not k.startswith('column:')]))\n",
    "\n",
    "\n",
    "    xgb_params = sample(space)\n",
    "       \n",
    "    \n",
    "    mdl = xgb.cv(\n",
    "                        xgb_params,\n",
    "                        xgb_train,\n",
    "                        num_boost_round = 10,##change to 750,\n",
    "                        nfold=NB_CV_FOLDS,\n",
    "                        #metrics='binary_logloss',\n",
    "                        stratified=False,\n",
    "                        #fobj=None,\n",
    "                        #feval=None,\n",
    "                        #init_model=None,\n",
    "                        #feature_name='auto',\n",
    "                        early_stopping_rounds=EARLY_STOPPING,\n",
    "                        #fpreproc=None,\n",
    "                        verbose_eval=100,\n",
    "                        show_stdv=False,\n",
    "                        )\n",
    "\n",
    "           \n",
    "    \n",
    "    n_rounds = len(mdl[\"test-auc-mean\"])\n",
    "    cv_score = mdl[\"test-auc-mean\"][n_rounds-1]\n",
    "\n",
    "    print( 'CV finished n_rounds={} cv_score={:7.5f}'.format( n_rounds, cv_score ) )\n",
    "    \n",
    "    gbm_model = xgb.train(\n",
    "                        xgb_params,\n",
    "                        xgb_train,\n",
    "                        num_boost_round=n_rounds,\n",
    "                        # metrics='mlogloss',\n",
    "                        # valid_names=None,\n",
    "                        # fobj=None,\n",
    "                        # init_model=None,\n",
    "                        # feature_name='auto',\n",
    "                        # categorical_feature='auto',\n",
    "                        # early_stopping_rounds=None,\n",
    "                        # evals_result=None,\n",
    "                        verbose_eval=False\n",
    "                        # learning_rates=None,\n",
    "                        # keep_training_booster=False,\n",
    "                        # callbacks=None)\n",
    "                         )\n",
    "    \n",
    "    predictions = gbm_model.predict(xgb_eval,\n",
    "                                    ntree_limit =n_rounds)\n",
    "    \n",
    "    score = roc_auc_score(y_val, predictions)\n",
    "    print('valid score={}'.format(score))\n",
    "    \n",
    "    \n",
    "#     do_submit = score > 0.63\n",
    "\n",
    "    if score > cur_best_score:\n",
    "        cur_best_score = score\n",
    "        print('NEW BEST SCORE={}'.format(cur_best_score))\n",
    "#         do_submit = True\n",
    "\n",
    "#     if do_submit:\n",
    "#         submit_guid = uuid4()\n",
    "\n",
    "#         print('Compute submissions guid={}'.format(submit_guid))\n",
    "\n",
    "#         y_submission = gbm_model.predict(xgb_test, ntree_limit = n_rounds)\n",
    "#         submission_filename = 'xgboost_score={:13.11f}_submission_guid={}.csv'.format(score,submit_guid)\n",
    "#         pd.DataFrame(\n",
    "#         {'id':test_id, 'target':y_submission}\n",
    "#         ).to_csv(submission_filename, index=False)\n",
    "       \n",
    "    loss = 1 - score\n",
    "    return {'loss': loss, 'status': STATUS_OK}\n",
    "\n",
    "   "
   ]
  },
  {
   "cell_type": "code",
   "execution_count": 15,
   "metadata": {
    "ExecuteTime": {
     "end_time": "2017-10-08T21:14:51.12725Z",
     "start_time": "2017-10-08T21:14:50.969832Z"
    },
    "_cell_guid": "5c577467-2ca2-4d42-b498-99cc85c6a994",
    "_uuid": "5748f3fa2037d83c33921bacb111fd73f05a6b58",
    "collapsed": true
   },
   "outputs": [],
   "source": [
    "space ={\n",
    "    'booster '    : 'gbtree',       \n",
    "    'objective'   : 'binary:logistic',\n",
    "    'eval_metric' : 'auc',\n",
    "     \n",
    "    'max_depth'   : hp.choice(\"max_depth\",        np.arange(4, 7,    dtype=int)),  \n",
    "   \n",
    "    'alpha'       : hp.uniform('alpha', 1e-4, 1e-6 ),\n",
    "    'lambda'      : hp.uniform('lambda', 1e-4, 1e-6 ),\n",
    "    \n",
    "    'min_child_weight ': hp.loguniform('min_sum_hessian_in_leaf', 0, 2.3),\n",
    "    'learning_rate'    : hp.loguniform('learning_rate', -6.9, -2.3),\n",
    "    \n",
    "    'seed'             : hp.randint('seed',2000000)\n",
    "   }"
   ]
  },
  {
   "cell_type": "code",
   "execution_count": 16,
   "metadata": {
    "ExecuteTime": {
     "start_time": "2017-10-08T21:14:48.959Z"
    },
    "_cell_guid": "55d079ff-3062-480f-8aee-7a1e0fb1bb00",
    "_uuid": "628c228e512d76bd392a82655c9e1113a41916cb",
    "collapsed": true
   },
   "outputs": [
    {
     "name": "stdout",
     "output_type": "stream",
     "text": [
      "\n",
      "XGBoost objective call #1 cur_best_score=0.00000\n",
      "Params: alpha=8.349250099322845e-05 booster =gbtree eval_metric=auc lambda=3.8460081990406686e-05 learning_rate=0.003928499902750982 max_depth=4 min_child_weight =4.711149316446385 objective=binary:logistic seed=1535004\n",
      "[0]\ttrain-auc:0.59803\ttest-auc:0.590191\n",
      "[9]\ttrain-auc:0.606008\ttest-auc:0.598475\n",
      "CV finished n_rounds=10 cv_score=0.59847\n",
      "valid score=0.6071942225574919\n",
      "NEW BEST SCORE=0.6071942225574919\n",
      "\n",
      "XGBoost objective call #2 cur_best_score=0.60719\n",
      "Params: alpha=7.983310064496318e-05 booster =gbtree eval_metric=auc lambda=3.053309297904555e-05 learning_rate=0.0051644147472385965 max_depth=6 min_child_weight =2.204480210398296 objective=binary:logistic seed=1984269\n",
      "[0]\ttrain-auc:0.618071\ttest-auc:0.604628\n",
      "[9]\ttrain-auc:0.622624\ttest-auc:0.609067\n",
      "CV finished n_rounds=10 cv_score=0.60907\n",
      "valid score=0.6169368809632393\n",
      "NEW BEST SCORE=0.6169368809632393\n",
      "\n",
      "XGBoost objective call #3 cur_best_score=0.61694\n",
      "Params: alpha=4.3481903631762766e-05 booster =gbtree eval_metric=auc lambda=2.8813004003798876e-05 learning_rate=0.0029204238088915966 max_depth=6 min_child_weight =1.8434906571521472 objective=binary:logistic seed=117863\n",
      "[0]\ttrain-auc:0.618071\ttest-auc:0.604629\n",
      "[9]\ttrain-auc:0.621183\ttest-auc:0.607431\n",
      "CV finished n_rounds=10 cv_score=0.60743\n",
      "valid score=0.6156224491447969\n",
      "\n",
      "XGBoost objective call #4 cur_best_score=0.61694\n",
      "Params: alpha=3.337737200287169e-05 booster =gbtree eval_metric=auc lambda=5.515073212794647e-05 learning_rate=0.021302950137465474 max_depth=5 min_child_weight =5.482465479797104 objective=binary:logistic seed=1622443\n",
      "[0]\ttrain-auc:0.608233\ttest-auc:0.597347\n",
      "[9]\ttrain-auc:0.623027\ttest-auc:0.612761\n",
      "CV finished n_rounds=10 cv_score=0.61276\n",
      "valid score=0.6155385400637573\n",
      "\n",
      "XGBoost objective call #5 cur_best_score=0.61694\n",
      "Params: alpha=5.702824730477935e-05 booster =gbtree eval_metric=auc lambda=3.215801878059214e-05 learning_rate=0.001560184884006111 max_depth=5 min_child_weight =4.874004439366789 objective=binary:logistic seed=1876848\n",
      "[0]\ttrain-auc:0.608233\ttest-auc:0.597347\n",
      "[9]\ttrain-auc:0.611479\ttest-auc:0.602118\n",
      "CV finished n_rounds=10 cv_score=0.60212\n",
      "valid score=0.6104066214437732\n",
      "\n",
      "XGBoost objective call #6 cur_best_score=0.61694\n",
      "Params: alpha=5.866344032319752e-05 booster =gbtree eval_metric=auc lambda=9.869554740910363e-05 learning_rate=0.020079570298402086 max_depth=4 min_child_weight =5.407115002530035 objective=binary:logistic seed=411285\n",
      "[0]\ttrain-auc:0.59803\ttest-auc:0.590191\n",
      "[9]\ttrain-auc:0.615741\ttest-auc:0.608503\n",
      "CV finished n_rounds=10 cv_score=0.60850\n",
      "valid score=0.6110295648349606\n",
      "\n",
      "XGBoost objective call #7 cur_best_score=0.61694\n",
      "Params: alpha=9.97117558564528e-05 booster =gbtree eval_metric=auc lambda=6.8670779314352584e-06 learning_rate=0.002487156502788587 max_depth=6 min_child_weight =2.067759211456897 objective=binary:logistic seed=918378\n",
      "[0]\ttrain-auc:0.618071\ttest-auc:0.604629\n",
      "[9]\ttrain-auc:0.621117\ttest-auc:0.607343\n",
      "CV finished n_rounds=10 cv_score=0.60734\n",
      "valid score=0.6156810002005199\n",
      "\n",
      "XGBoost objective call #8 cur_best_score=0.61694\n",
      "Params: alpha=6.539779219408859e-05 booster =gbtree eval_metric=auc lambda=8.189567084096556e-05 learning_rate=0.004067352953545179 max_depth=4 min_child_weight =4.584953130211684 objective=binary:logistic seed=131954\n",
      "[0]\ttrain-auc:0.59803\ttest-auc:0.590191\n",
      "[9]\ttrain-auc:0.606008\ttest-auc:0.598475\n",
      "CV finished n_rounds=10 cv_score=0.59847\n",
      "valid score=0.6071942225574919\n",
      "\n",
      "XGBoost objective call #9 cur_best_score=0.61694\n",
      "Params: alpha=4.478045199154485e-06 booster =gbtree eval_metric=auc lambda=8.107180273352911e-05 learning_rate=0.012825558588312552 max_depth=4 min_child_weight =1.5494369077994217 objective=binary:logistic seed=1953670\n",
      "[0]\ttrain-auc:0.59803\ttest-auc:0.590191\n",
      "[9]\ttrain-auc:0.613628\ttest-auc:0.606079\n",
      "CV finished n_rounds=10 cv_score=0.60608\n",
      "valid score=0.60923465815075\n",
      "\n",
      "XGBoost objective call #10 cur_best_score=0.61694\n",
      "Params: alpha=8.709979066661101e-05 booster =gbtree eval_metric=auc lambda=4.35066163223111e-05 learning_rate=0.057547776479217806 max_depth=6 min_child_weight =2.662457018969278 objective=binary:logistic seed=571904\n",
      "[0]\ttrain-auc:0.618071\ttest-auc:0.604664\n",
      "[9]\ttrain-auc:0.635593\ttest-auc:0.619586\n",
      "CV finished n_rounds=10 cv_score=0.61959\n",
      "valid score=0.6220851539311608\n",
      "NEW BEST SCORE=0.6220851539311608\n",
      "\n",
      "XGBoost objective call #11 cur_best_score=0.62209\n",
      "Params: alpha=3.441861495613848e-05 booster =gbtree eval_metric=auc lambda=1.4219395257365636e-05 learning_rate=0.014820150038976075 max_depth=5 min_child_weight =1.51429184041848 objective=binary:logistic seed=1748999\n",
      "[0]\ttrain-auc:0.608233\ttest-auc:0.597347\n",
      "[9]\ttrain-auc:0.621367\ttest-auc:0.611438\n",
      "CV finished n_rounds=10 cv_score=0.61144\n",
      "valid score=0.6147551415432787\n",
      "\n",
      "XGBoost objective call #12 cur_best_score=0.62209\n",
      "Params: alpha=5.096007018075006e-05 booster =gbtree eval_metric=auc lambda=3.680843965867663e-05 learning_rate=0.05878644504919337 max_depth=5 min_child_weight =1.409028195406238 objective=binary:logistic seed=839325\n",
      "[0]\ttrain-auc:0.608233\ttest-auc:0.597347\n",
      "[9]\ttrain-auc:0.626601\ttest-auc:0.615986\n",
      "CV finished n_rounds=10 cv_score=0.61599\n",
      "valid score=0.618967271361198\n",
      "\n",
      "XGBoost objective call #13 cur_best_score=0.62209\n",
      "Params: alpha=4.463730057593389e-05 booster =gbtree eval_metric=auc lambda=5.801547037900437e-05 learning_rate=0.002439086905326408 max_depth=4 min_child_weight =4.546930588052176 objective=binary:logistic seed=1034555\n",
      "[0]\ttrain-auc:0.59803\ttest-auc:0.590206\n",
      "[9]\ttrain-auc:0.603477\ttest-auc:0.595397\n",
      "CV finished n_rounds=10 cv_score=0.59540\n",
      "valid score=0.6070484321241337\n",
      "\n",
      "XGBoost objective call #14 cur_best_score=0.62209\n",
      "Params: alpha=8.049269538395181e-05 booster =gbtree eval_metric=auc lambda=5.4479831530283904e-05 learning_rate=0.001097265958070347 max_depth=4 min_child_weight =1.0919085166377283 objective=binary:logistic seed=1850122\n",
      "[0]\ttrain-auc:0.59803\ttest-auc:0.590206\n",
      "[9]\ttrain-auc:0.598522\ttest-auc:0.590637\n",
      "CV finished n_rounds=10 cv_score=0.59064\n",
      "valid score=0.6075118687457131\n",
      "\n",
      "XGBoost objective call #15 cur_best_score=0.62209\n",
      "Params: alpha=6.239050708738722e-05 booster =gbtree eval_metric=auc lambda=3.937286317457374e-05 learning_rate=0.014365073516145873 max_depth=4 min_child_weight =2.5499802082224017 objective=binary:logistic seed=1673146\n",
      "[0]\ttrain-auc:0.59803\ttest-auc:0.590191\n",
      "[9]\ttrain-auc:0.613864\ttest-auc:0.605966\n",
      "CV finished n_rounds=10 cv_score=0.60597\n",
      "valid score=0.6095122070028302\n",
      "\n",
      "XGBoost objective call #16 cur_best_score=0.62209\n",
      "Params: alpha=5.1039902026855855e-05 booster =gbtree eval_metric=auc lambda=9.333491597996992e-05 learning_rate=0.0017750921420773033 max_depth=4 min_child_weight =5.549179301296499 objective=binary:logistic seed=322507\n",
      "[0]\ttrain-auc:0.59803\ttest-auc:0.590191\n",
      "[9]\ttrain-auc:0.603027\ttest-auc:0.594756\n",
      "CV finished n_rounds=10 cv_score=0.59476\n",
      "valid score=0.6076078557259532\n",
      "\n",
      "XGBoost objective call #17 cur_best_score=0.62209\n",
      "Params: alpha=3.903418939635768e-05 booster =gbtree eval_metric=auc lambda=1.1659324772445541e-05 learning_rate=0.004552261027992533 max_depth=6 min_child_weight =9.557699065759225 objective=binary:logistic seed=129615\n",
      "[0]\ttrain-auc:0.618071\ttest-auc:0.604628\n",
      "[9]\ttrain-auc:0.621813\ttest-auc:0.608011\n",
      "CV finished n_rounds=10 cv_score=0.60801\n",
      "valid score=0.6169909939782119\n",
      "\n",
      "XGBoost objective call #18 cur_best_score=0.62209\n",
      "Params: alpha=7.409670562123226e-05 booster =gbtree eval_metric=auc lambda=9.372142220051956e-06 learning_rate=0.006206240255702992 max_depth=5 min_child_weight =8.658861670083724 objective=binary:logistic seed=1443328\n",
      "[0]\ttrain-auc:0.608233\ttest-auc:0.597347\n",
      "[9]\ttrain-auc:0.615197\ttest-auc:0.606122\n",
      "CV finished n_rounds=10 cv_score=0.60612\n",
      "valid score=0.6129010807030998\n",
      "\n",
      "XGBoost objective call #19 cur_best_score=0.62209\n",
      "Params: alpha=4.767731189758396e-05 booster =gbtree eval_metric=auc lambda=5.6413008484789155e-05 learning_rate=0.006195062969545337 max_depth=4 min_child_weight =9.444406508356343 objective=binary:logistic seed=1159462\n",
      "[0]\ttrain-auc:0.59803\ttest-auc:0.590206\n",
      "[9]\ttrain-auc:0.60772\ttest-auc:0.600364\n",
      "CV finished n_rounds=10 cv_score=0.60036\n",
      "valid score=0.6078001201988502\n",
      "\n",
      "XGBoost objective call #20 cur_best_score=0.62209\n",
      "Params: alpha=4.349898053901918e-05 booster =gbtree eval_metric=auc lambda=4.023026727846066e-05 learning_rate=0.0019551825091134994 max_depth=5 min_child_weight =1.6904276217133591 objective=binary:logistic seed=1454664\n",
      "[0]\ttrain-auc:0.608233\ttest-auc:0.597347\n",
      "[9]\ttrain-auc:0.611915\ttest-auc:0.602464\n",
      "CV finished n_rounds=10 cv_score=0.60246\n",
      "valid score=0.6106118817114853\n"
     ]
    },
    {
     "ename": "AssertionError",
     "evalue": "",
     "output_type": "error",
     "traceback": [
      "\u001b[0;31m---------------------------------------------------------------------------\u001b[0m",
      "\u001b[0;31mAssertionError\u001b[0m                            Traceback (most recent call last)",
      "\u001b[0;32m<ipython-input-16-801975cf04be>\u001b[0m in \u001b[0;36m<module>\u001b[0;34m()\u001b[0m\n\u001b[1;32m      5\u001b[0m                      \u001b[0mmax_evals\u001b[0m\u001b[0;34m=\u001b[0m\u001b[0mN_HYPEROPT_PROBES\u001b[0m\u001b[0;34m,\u001b[0m\u001b[0;34m\u001b[0m\u001b[0m\n\u001b[1;32m      6\u001b[0m                      \u001b[0mtrials\u001b[0m\u001b[0;34m=\u001b[0m\u001b[0mtrials\u001b[0m\u001b[0;34m,\u001b[0m\u001b[0;34m\u001b[0m\u001b[0m\n\u001b[0;32m----> 7\u001b[0;31m                      verbose=1)\n\u001b[0m\u001b[1;32m      8\u001b[0m \u001b[0;34m\u001b[0m\u001b[0m\n\u001b[1;32m      9\u001b[0m \u001b[0mprint\u001b[0m\u001b[0;34m(\u001b[0m\u001b[0;34m'-'\u001b[0m\u001b[0;34m*\u001b[0m\u001b[0;36m50\u001b[0m\u001b[0;34m)\u001b[0m\u001b[0;34m\u001b[0m\u001b[0m\n",
      "\u001b[0;32m/opt/conda/lib/python3.6/site-packages/hyperopt/fmin.py\u001b[0m in \u001b[0;36mfmin\u001b[0;34m(fn, space, algo, max_evals, trials, rstate, allow_trials_fmin, pass_expr_memo_ctrl, catch_eval_exceptions, verbose, return_argmin)\u001b[0m\n\u001b[1;32m    305\u001b[0m             \u001b[0mverbose\u001b[0m\u001b[0;34m=\u001b[0m\u001b[0mverbose\u001b[0m\u001b[0;34m,\u001b[0m\u001b[0;34m\u001b[0m\u001b[0m\n\u001b[1;32m    306\u001b[0m             \u001b[0mcatch_eval_exceptions\u001b[0m\u001b[0;34m=\u001b[0m\u001b[0mcatch_eval_exceptions\u001b[0m\u001b[0;34m,\u001b[0m\u001b[0;34m\u001b[0m\u001b[0m\n\u001b[0;32m--> 307\u001b[0;31m             \u001b[0mreturn_argmin\u001b[0m\u001b[0;34m=\u001b[0m\u001b[0mreturn_argmin\u001b[0m\u001b[0;34m,\u001b[0m\u001b[0;34m\u001b[0m\u001b[0m\n\u001b[0m\u001b[1;32m    308\u001b[0m         )\n\u001b[1;32m    309\u001b[0m \u001b[0;34m\u001b[0m\u001b[0m\n",
      "\u001b[0;32m/opt/conda/lib/python3.6/site-packages/hyperopt/base.py\u001b[0m in \u001b[0;36mfmin\u001b[0;34m(self, fn, space, algo, max_evals, rstate, verbose, pass_expr_memo_ctrl, catch_eval_exceptions, return_argmin)\u001b[0m\n\u001b[1;32m    633\u001b[0m             \u001b[0mpass_expr_memo_ctrl\u001b[0m\u001b[0;34m=\u001b[0m\u001b[0mpass_expr_memo_ctrl\u001b[0m\u001b[0;34m,\u001b[0m\u001b[0;34m\u001b[0m\u001b[0m\n\u001b[1;32m    634\u001b[0m             \u001b[0mcatch_eval_exceptions\u001b[0m\u001b[0;34m=\u001b[0m\u001b[0mcatch_eval_exceptions\u001b[0m\u001b[0;34m,\u001b[0m\u001b[0;34m\u001b[0m\u001b[0m\n\u001b[0;32m--> 635\u001b[0;31m             return_argmin=return_argmin)\n\u001b[0m\u001b[1;32m    636\u001b[0m \u001b[0;34m\u001b[0m\u001b[0m\n\u001b[1;32m    637\u001b[0m \u001b[0;34m\u001b[0m\u001b[0m\n",
      "\u001b[0;32m/opt/conda/lib/python3.6/site-packages/hyperopt/fmin.py\u001b[0m in \u001b[0;36mfmin\u001b[0;34m(fn, space, algo, max_evals, trials, rstate, allow_trials_fmin, pass_expr_memo_ctrl, catch_eval_exceptions, verbose, return_argmin)\u001b[0m\n\u001b[1;32m    318\u001b[0m                     verbose=verbose)\n\u001b[1;32m    319\u001b[0m     \u001b[0mrval\u001b[0m\u001b[0;34m.\u001b[0m\u001b[0mcatch_eval_exceptions\u001b[0m \u001b[0;34m=\u001b[0m \u001b[0mcatch_eval_exceptions\u001b[0m\u001b[0;34m\u001b[0m\u001b[0m\n\u001b[0;32m--> 320\u001b[0;31m     \u001b[0mrval\u001b[0m\u001b[0;34m.\u001b[0m\u001b[0mexhaust\u001b[0m\u001b[0;34m(\u001b[0m\u001b[0;34m)\u001b[0m\u001b[0;34m\u001b[0m\u001b[0m\n\u001b[0m\u001b[1;32m    321\u001b[0m     \u001b[0;32mif\u001b[0m \u001b[0mreturn_argmin\u001b[0m\u001b[0;34m:\u001b[0m\u001b[0;34m\u001b[0m\u001b[0m\n\u001b[1;32m    322\u001b[0m         \u001b[0;32mreturn\u001b[0m \u001b[0mtrials\u001b[0m\u001b[0;34m.\u001b[0m\u001b[0margmin\u001b[0m\u001b[0;34m\u001b[0m\u001b[0m\n",
      "\u001b[0;32m/opt/conda/lib/python3.6/site-packages/hyperopt/fmin.py\u001b[0m in \u001b[0;36mexhaust\u001b[0;34m(self)\u001b[0m\n\u001b[1;32m    197\u001b[0m     \u001b[0;32mdef\u001b[0m \u001b[0mexhaust\u001b[0m\u001b[0;34m(\u001b[0m\u001b[0mself\u001b[0m\u001b[0;34m)\u001b[0m\u001b[0;34m:\u001b[0m\u001b[0;34m\u001b[0m\u001b[0m\n\u001b[1;32m    198\u001b[0m         \u001b[0mn_done\u001b[0m \u001b[0;34m=\u001b[0m \u001b[0mlen\u001b[0m\u001b[0;34m(\u001b[0m\u001b[0mself\u001b[0m\u001b[0;34m.\u001b[0m\u001b[0mtrials\u001b[0m\u001b[0;34m)\u001b[0m\u001b[0;34m\u001b[0m\u001b[0m\n\u001b[0;32m--> 199\u001b[0;31m         \u001b[0mself\u001b[0m\u001b[0;34m.\u001b[0m\u001b[0mrun\u001b[0m\u001b[0;34m(\u001b[0m\u001b[0mself\u001b[0m\u001b[0;34m.\u001b[0m\u001b[0mmax_evals\u001b[0m \u001b[0;34m-\u001b[0m \u001b[0mn_done\u001b[0m\u001b[0;34m,\u001b[0m \u001b[0mblock_until_done\u001b[0m\u001b[0;34m=\u001b[0m\u001b[0mself\u001b[0m\u001b[0;34m.\u001b[0m\u001b[0masync\u001b[0m\u001b[0;34m)\u001b[0m\u001b[0;34m\u001b[0m\u001b[0m\n\u001b[0m\u001b[1;32m    200\u001b[0m         \u001b[0mself\u001b[0m\u001b[0;34m.\u001b[0m\u001b[0mtrials\u001b[0m\u001b[0;34m.\u001b[0m\u001b[0mrefresh\u001b[0m\u001b[0;34m(\u001b[0m\u001b[0;34m)\u001b[0m\u001b[0;34m\u001b[0m\u001b[0m\n\u001b[1;32m    201\u001b[0m         \u001b[0;32mreturn\u001b[0m \u001b[0mself\u001b[0m\u001b[0;34m\u001b[0m\u001b[0m\n",
      "\u001b[0;32m/opt/conda/lib/python3.6/site-packages/hyperopt/fmin.py\u001b[0m in \u001b[0;36mrun\u001b[0;34m(self, N, block_until_done)\u001b[0m\n\u001b[1;32m    155\u001b[0m                                                   d['result'].get('status')))\n\u001b[1;32m    156\u001b[0m                 new_trials = algo(new_ids, self.domain, trials,\n\u001b[0;32m--> 157\u001b[0;31m                                   self.rstate.randint(2 ** 31 - 1))\n\u001b[0m\u001b[1;32m    158\u001b[0m                 \u001b[0;32massert\u001b[0m \u001b[0mlen\u001b[0m\u001b[0;34m(\u001b[0m\u001b[0mnew_ids\u001b[0m\u001b[0;34m)\u001b[0m \u001b[0;34m>=\u001b[0m \u001b[0mlen\u001b[0m\u001b[0;34m(\u001b[0m\u001b[0mnew_trials\u001b[0m\u001b[0;34m)\u001b[0m\u001b[0;34m\u001b[0m\u001b[0m\n\u001b[1;32m    159\u001b[0m                 \u001b[0;32mif\u001b[0m \u001b[0mlen\u001b[0m\u001b[0;34m(\u001b[0m\u001b[0mnew_trials\u001b[0m\u001b[0;34m)\u001b[0m\u001b[0;34m:\u001b[0m\u001b[0;34m\u001b[0m\u001b[0m\n",
      "\u001b[0;32m/opt/conda/lib/python3.6/site-packages/hyperopt/tpe.py\u001b[0m in \u001b[0;36msuggest\u001b[0;34m(new_ids, domain, trials, seed, prior_weight, n_startup_jobs, n_EI_candidates, gamma, linear_forgetting)\u001b[0m\n\u001b[1;32m    899\u001b[0m \u001b[0;34m\u001b[0m\u001b[0m\n\u001b[1;32m    900\u001b[0m     idxs, vals = pyll.rec_eval([opt_idxs, opt_vals], memo=memo,\n\u001b[0;32m--> 901\u001b[0;31m                                print_node_on_error=False)\n\u001b[0m\u001b[1;32m    902\u001b[0m \u001b[0;34m\u001b[0m\u001b[0m\n\u001b[1;32m    903\u001b[0m     \u001b[0;31m# -- retrieve the best of the samples and form the return tuple\u001b[0m\u001b[0;34m\u001b[0m\u001b[0;34m\u001b[0m\u001b[0m\n",
      "\u001b[0;32m/opt/conda/lib/python3.6/site-packages/hyperopt/pyll/base.py\u001b[0m in \u001b[0;36mrec_eval\u001b[0;34m(expr, deepcopy_inputs, memo, max_program_len, memo_gc, print_trace, print_node_on_error)\u001b[0m\n\u001b[1;32m    911\u001b[0m \u001b[0;34m\u001b[0m\u001b[0m\n\u001b[1;32m    912\u001b[0m             \u001b[0;32mtry\u001b[0m\u001b[0;34m:\u001b[0m\u001b[0;34m\u001b[0m\u001b[0m\n\u001b[0;32m--> 913\u001b[0;31m                 \u001b[0mrval\u001b[0m \u001b[0;34m=\u001b[0m \u001b[0mscope\u001b[0m\u001b[0;34m.\u001b[0m\u001b[0m_impls\u001b[0m\u001b[0;34m[\u001b[0m\u001b[0mnode\u001b[0m\u001b[0;34m.\u001b[0m\u001b[0mname\u001b[0m\u001b[0;34m]\u001b[0m\u001b[0;34m(\u001b[0m\u001b[0;34m*\u001b[0m\u001b[0margs\u001b[0m\u001b[0;34m,\u001b[0m \u001b[0;34m**\u001b[0m\u001b[0mkwargs\u001b[0m\u001b[0;34m)\u001b[0m\u001b[0;34m\u001b[0m\u001b[0m\n\u001b[0m\u001b[1;32m    914\u001b[0m \u001b[0;34m\u001b[0m\u001b[0m\n\u001b[1;32m    915\u001b[0m             \u001b[0;32mexcept\u001b[0m \u001b[0mException\u001b[0m \u001b[0;32mas\u001b[0m \u001b[0me\u001b[0m\u001b[0;34m:\u001b[0m\u001b[0;34m\u001b[0m\u001b[0m\n",
      "\u001b[0;32m/opt/conda/lib/python3.6/site-packages/hyperopt/tpe.py\u001b[0m in \u001b[0;36madaptive_parzen_normal\u001b[0;34m(mus, prior_weight, prior_mu, prior_sigma, LF)\u001b[0m\n\u001b[1;32m    464\u001b[0m \u001b[0;34m\u001b[0m\u001b[0m\n\u001b[1;32m    465\u001b[0m     \u001b[0msigma\u001b[0m\u001b[0;34m[\u001b[0m\u001b[0mprior_pos\u001b[0m\u001b[0;34m]\u001b[0m \u001b[0;34m=\u001b[0m \u001b[0mprior_sigma\u001b[0m\u001b[0;34m\u001b[0m\u001b[0m\n\u001b[0;32m--> 466\u001b[0;31m     \u001b[0;32massert\u001b[0m \u001b[0mprior_sigma\u001b[0m \u001b[0;34m>\u001b[0m \u001b[0;36m0\u001b[0m\u001b[0;34m\u001b[0m\u001b[0m\n\u001b[0m\u001b[1;32m    467\u001b[0m     \u001b[0;32massert\u001b[0m \u001b[0mmaxsigma\u001b[0m \u001b[0;34m>\u001b[0m \u001b[0;36m0\u001b[0m\u001b[0;34m\u001b[0m\u001b[0m\n\u001b[1;32m    468\u001b[0m     \u001b[0;32massert\u001b[0m \u001b[0mminsigma\u001b[0m \u001b[0;34m>\u001b[0m \u001b[0;36m0\u001b[0m\u001b[0;34m\u001b[0m\u001b[0m\n",
      "\u001b[0;31mAssertionError\u001b[0m: "
     ]
    }
   ],
   "source": [
    "trials = Trials()\n",
    "best = fmin(fn=objective,\n",
    "                     space=space,\n",
    "                     algo=HYPEROPT_ALGO,\n",
    "                     max_evals=N_HYPEROPT_PROBES,\n",
    "                     trials=trials,\n",
    "                     verbose=1)\n",
    "\n",
    "print('-'*50)\n",
    "print('The best params:')\n",
    "print( best )\n",
    "print('\\n\\n')"
   ]
  }
 ],
 "metadata": {
  "celltoolbar": "Initialization Cell",
  "kernelspec": {
   "display_name": "Python 3",
   "language": "python",
   "name": "python3"
  },
  "language_info": {
   "codemirror_mode": {
    "name": "ipython",
    "version": 3
   },
   "file_extension": ".py",
   "mimetype": "text/x-python",
   "name": "python",
   "nbconvert_exporter": "python",
   "pygments_lexer": "ipython3",
   "version": "3.6.3"
  },
  "toc": {
   "nav_menu": {},
   "number_sections": true,
   "sideBar": true,
   "skip_h1_title": false,
   "toc_cell": false,
   "toc_position": {},
   "toc_section_display": "block",
   "toc_window_display": false
  },
  "varInspector": {
   "cols": {
    "lenName": 16,
    "lenType": 16,
    "lenVar": 40
   },
   "kernels_config": {
    "python": {
     "delete_cmd_postfix": "",
     "delete_cmd_prefix": "del ",
     "library": "var_list.py",
     "varRefreshCmd": "print(var_dic_list())"
    },
    "r": {
     "delete_cmd_postfix": ") ",
     "delete_cmd_prefix": "rm(",
     "library": "var_list.r",
     "varRefreshCmd": "cat(var_dic_list()) "
    }
   },
   "types_to_exclude": [
    "module",
    "function",
    "builtin_function_or_method",
    "instance",
    "_Feature"
   ],
   "window_display": false
  }
 },
 "nbformat": 4,
 "nbformat_minor": 1
}
