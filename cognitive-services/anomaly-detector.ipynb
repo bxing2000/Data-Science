{
 "cells": [
  {
   "cell_type": "markdown",
   "metadata": {},
   "source": [
    "### Imports and shared"
   ]
  },
  {
   "cell_type": "code",
   "execution_count": 28,
   "metadata": {},
   "outputs": [],
   "source": [
    "from azure.ai.anomalydetector import AnomalyDetectorClient\n",
    "from azure.ai.anomalydetector.models import *\n",
    "from azure.core.credentials import AzureKeyCredential\n",
    "import time\n",
    "from datetime import datetime, timezone\n",
    "import pandas as pd\n",
    "import os\n",
    "import matplotlib.pyplot as plt\n",
    "import matplotlib.dates as mdates\n",
    "\n",
    "'''\n",
    "Authenticates your credentials and creates a client.\n",
    "'''\n",
    "key = \"62d71c2d6c6341b6b038af0ae40156f3\"\n",
    "endpoint = \"https://actsoftanomalydetector.cognitiveservices.azure.com/\"\n",
    "\n",
    "client = AnomalyDetectorClient(endpoint, AzureKeyCredential(key))\n"
   ]
  },
  {
   "attachments": {},
   "cell_type": "markdown",
   "metadata": {},
   "source": [
    "### Univariate detection"
   ]
  },
  {
   "cell_type": "code",
   "execution_count": 32,
   "metadata": {},
   "outputs": [
    {
     "name": "stdout",
     "output_type": "stream",
     "text": [
      "Anomaly detected at index:      3\n",
      "Anomaly detected at index:      18\n",
      "Change point detected at index: 20\n",
      "Anomaly detected at index:      21\n",
      "Anomaly detected at index:      22\n",
      "Anomaly detected at index:      23\n",
      "Anomaly detected at index:      24\n",
      "Anomaly detected at index:      25\n",
      "Change point detected at index: 27\n",
      "Anomaly detected at index:      28\n",
      "Anomaly detected at index:      29\n",
      "Anomaly detected at index:      30\n",
      "Anomaly detected at index:      31\n",
      "Anomaly detected at index:      32\n",
      "Anomaly detected at index:      35\n",
      "Anomaly detected at index:      44\n"
     ]
    },
    {
     "data": {
      "image/png": "[encoded data removed]",
      "text/plain": [
       "<Figure size 640x480 with 1 Axes>"
      ]
     },
     "metadata": {},
     "output_type": "display_data"
    }
   ],
   "source": [
    "DATA_PATH = 'C:\\\\Data Science\\\\cognitive-services\\\\request-data.csv'\n",
    "\n",
    "series = []\n",
    "data_file = pd.read_csv(DATA_PATH, header=None, encoding='utf-8', date_parser=[0])\n",
    "for index, row in data_file.iterrows():\n",
    "    series.append(TimeSeriesPoint(timestamp=row[0], value=row[1]))\n",
    "\n",
    "request = UnivariateDetectionOptions(series=series, granularity=TimeGranularity.DAILY)\n",
    "\n",
    "change_point_response = client.detect_univariate_change_point(request)\n",
    "anomaly_response = client.detect_univariate_entire_series(request)\n",
    "\n",
    "date_format = \"%Y-%m-%dT%H:%M:%SZ\"\n",
    "for i in range(len(data_file.values)):\n",
    "    temp_date = datetime.strptime(data_file.values[i][0], date_format)\n",
    "    temp_date_to_num = mdates.date2num(temp_date)\n",
    "    date= temp_date_to_num\n",
    "    if (change_point_response.is_change_point[i]):\n",
    "        plt.plot(date,data_file.values[i][1], 's', color ='blue')\n",
    "        print(\"Change point detected at index: \"+ str(i))\n",
    "    elif (anomaly_response.is_anomaly[i]):\n",
    "        plt.plot(date,data_file.values[i][1], '^', color=\"red\")\n",
    "        print(\"Anomaly detected at index:      \"+ str(i))\n",
    "    else:\n",
    "        plt.plot(date,data_file.values[i][1], 'o', color ='green')\n",
    "plt.show()\n"
   ]
  },
  {
   "attachments": {},
   "cell_type": "markdown",
   "metadata": {},
   "source": [
    "### Multivariate detection"
   ]
  },
  {
   "cell_type": "code",
   "execution_count": null,
   "metadata": {},
   "outputs": [],
   "source": [
    "time_format = \"%Y-%m-%dT%H:%M:%SZ\"\n",
    "blob_url = \"Path-to-sample-file-in-your-storage-account\"  # example path: https://docstest001.blob.core.windows.net/test/sample_data_5_3000.csv\n",
    "# blob_url = 'C:\\\\Data Science\\\\cognitive-services\\\\sample_data_5_3000.csv'\n",
    "\n",
    "train_body = ModelInfo(\n",
    "    data_source=blob_url,\n",
    "    start_time=datetime.strptime(\"2021-01-02T00:00:00Z\", time_format),\n",
    "    end_time=datetime.strptime(\"2021-01-02T05:00:00Z\", time_format),\n",
    "    data_schema=\"OneTable\",\n",
    "    display_name=\"sample\",\n",
    "    sliding_window=200,\n",
    "    align_policy=AlignPolicy(\n",
    "        align_mode=AlignMode.OUTER,\n",
    "        fill_n_a_method=FillNAMethod.LINEAR,\n",
    "        padding_value=0,\n",
    "    ),\n",
    ")\n",
    "\n",
    "batch_inference_body = MultivariateBatchDetectionOptions(\n",
    "       data_source=blob_url,\n",
    "       top_contributor_count=10,\n",
    "       start_time=datetime.strptime(\"2021-01-02T00:00:00Z\", time_format),\n",
    "       end_time=datetime.strptime(\"2021-01-02T05:00:00Z\", time_format),\n",
    "   )\n",
    "\n",
    "\n",
    "print(\"Training new model...(it may take a few minutes)\")\n",
    "model = client.train_multivariate_model(train_body)\n",
    "model_id = model.model_id\n",
    "print(\"Training model id is {}\".format(model_id))\n",
    "\n",
    "## Wait until the model is ready. It usually takes several minutes\n",
    "model_status = None\n",
    "model = None\n",
    "\n",
    "while model_status != ModelStatus.READY and model_status != ModelStatus.FAILED:\n",
    "    model = client.get_multivariate_model(model_id)\n",
    "    print(model)\n",
    "    model_status = model.model_info.status\n",
    "    print(\"Model is {}\".format(model_status))\n",
    "    time.sleep(30)\n",
    "if model_status == ModelStatus.READY:\n",
    "    print(\"Done.\\n--------------------\")\n",
    "    # Return the latest model id\n",
    "\n",
    "# Detect anomaly in the same data source (but a different interval)\n",
    "result = client.detect_multivariate_batch_anomaly(model_id, batch_inference_body)\n",
    "result_id = result.result_id\n",
    "\n",
    "# Get results (may need a few seconds)\n",
    "r = client.get_multivariate_batch_detection_result(result_id)\n",
    "print(\"Get detection result...(it may take a few seconds)\")\n",
    "\n",
    "while r.summary.status != MultivariateBatchDetectionStatus.READY and r.summary.status != MultivariateBatchDetectionStatus.FAILED and r.summary.status !=MultivariateBatchDetectionStatus.CREATED:\n",
    "    anomaly_results = client.get_multivariate_batch_detection_result(result_id)\n",
    "    print(\"Detection is {}\".format(r.summary.status))\n",
    "    time.sleep(5)\n",
    "    \n",
    "   \n",
    "print(\"Result ID:\\t\", anomaly_results.result_id)\n",
    "print(\"Result status:\\t\", anomaly_results.summary.status)\n",
    "print(\"Result length:\\t\", len(anomaly_results.results))\n",
    "\n",
    "# See detailed inference result\n",
    "for r in anomaly_results.results:\n",
    "    print(\n",
    "        \"timestamp: {}, is_anomaly: {:<5}, anomaly score: {:.4f}, severity: {:.4f}, contributor count: {:<4d}\".format(\n",
    "            r.timestamp,\n",
    "            r.value.is_anomaly,\n",
    "            r.value.score,\n",
    "            r.value.severity,\n",
    "            len(r.value.interpretation) if r.value.is_anomaly else 0,\n",
    "        )\n",
    "    )\n",
    "    if r.value.interpretation:\n",
    "        for contributor in r.value.interpretation:\n",
    "            print(\n",
    "                \"\\tcontributor variable: {:<10}, contributor score: {:.4f}\".format(\n",
    "                    contributor.variable, contributor.contribution_score\n",
    "                )\n",
    "            )\n"
   ]
  }
 ],
 "metadata": {
  "kernelspec": {
   "display_name": "Python 3.7.7 ('myenv')",
   "language": "python",
   "name": "python3"
  },
  "language_info": {
   "codemirror_mode": {
    "name": "ipython",
    "version": 3
   },
   "file_extension": ".py",
   "mimetype": "text/x-python",
   "name": "python",
   "nbconvert_exporter": "python",
   "pygments_lexer": "ipython3",
   "version": "3.7.7"
  },
  "orig_nbformat": 4,
  "vscode": {
   "interpreter": {
    "hash": "51aece475e882dbfaff838a8fad7259eb200c654596baedda4089f553a2485b0"
   }
  }
 },
 "nbformat": 4,
 "nbformat_minor": 2
}
